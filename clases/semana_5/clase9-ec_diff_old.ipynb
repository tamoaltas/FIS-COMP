{
 "cells": [
  {
   "cell_type": "markdown",
   "id": "342c2853-e88c-4ff2-aee6-ee81a584acfb",
   "metadata": {},
   "source": [
    "### Ecuaciones Diferenciales"
   ]
  },
  {
   "cell_type": "code",
   "execution_count": 1,
   "id": "19b1135b-1311-429f-b5fb-e61d967ebfee",
   "metadata": {},
   "outputs": [],
   "source": [
    "import math as m\n",
    "import numpy as np\n",
    "import matplotlib.pyplot as plt"
   ]
  },
  {
   "cell_type": "markdown",
   "id": "51850fcd-e98f-4e7e-b737-7dd2a83f69db",
   "metadata": {},
   "source": [
    "Manejo de matrices/vectores"
   ]
  },
  {
   "cell_type": "code",
   "execution_count": 2,
   "id": "3b0163c2-f586-481f-9ebf-bf91d2ec660d",
   "metadata": {},
   "outputs": [
    {
     "data": {
      "text/plain": [
       "(array([2, 5]), array([4, 9]), array([ 8, 45]), 53)"
      ]
     },
     "execution_count": 2,
     "metadata": {},
     "output_type": "execute_result"
    }
   ],
   "source": [
    "x = np.array([2,5])\n",
    "y = np.array([4,9])\n",
    "x, y, x*y, np.dot(x,y)"
   ]
  },
  {
   "cell_type": "code",
   "execution_count": 3,
   "id": "6c3c92ab-5963-42f8-961e-e8f7a3154439",
   "metadata": {},
   "outputs": [
    {
     "data": {
      "text/plain": [
       "(array([[3, 5],\n",
       "        [7, 2]]),\n",
       " array([31, 24]))"
      ]
     },
     "execution_count": 3,
     "metadata": {},
     "output_type": "execute_result"
    }
   ],
   "source": [
    "M = np.array([[3,5],[7,2]])\n",
    "M, np.dot(M,x)"
   ]
  },
  {
   "cell_type": "code",
   "execution_count": 4,
   "id": "7826af47-770b-4a69-98f3-0ab66ac05d5b",
   "metadata": {},
   "outputs": [
    {
     "data": {
      "text/plain": [
       "(array([[3, 7],\n",
       "        [5, 2]]),\n",
       " 5,\n",
       " -29.000000000000004)"
      ]
     },
     "execution_count": 4,
     "metadata": {},
     "output_type": "execute_result"
    }
   ],
   "source": [
    "np.transpose(M), np.trace(M), np.linalg.det(M)"
   ]
  },
  {
   "cell_type": "markdown",
   "id": "0ce0902e-4d66-42d5-81ea-23b2009ed782",
   "metadata": {},
   "source": [
    "Tenemos un sistema de ecuaciones diferenciales ordinarias\n",
    "\n",
    "$$\n",
    "\\frac{d\\vec{x}}{dt} = \\vec{g}(\\vec{x},t)\n",
    "$$\n",
    "$$\n",
    "\\vec x_{n+1} = \\vec{x}_n +\\delta\\vec{g}(\\vec{x}_n,t_n) +\\frac{\\delta{^2}}{2}\\mathbb{J}(\\vec{x}_n,t_n)\\cdot\\vec{g}(\\vec{x}_n,t_n)\n",
    "$$\n",
    "\n",
    "donde $\\delta$ es el paso de integración y $\\vec{x}$ son las variables del sistema de ecuaciones diferenciales."
   ]
  },
  {
   "cell_type": "code",
   "execution_count": 5,
   "id": "1f31ecc5-8d1b-45ba-b96a-0130e44bb085",
   "metadata": {},
   "outputs": [],
   "source": [
    "def pendulo_simple(x , w2=1):\n",
    "    # x = (theta, v_theta)\n",
    "    return np.array([ x[1] , -w2*np.sin(x[0]) ])\n",
    "\n",
    "def EDO_Euler(g,x0,t,h=0.1):\n",
    "    N = int((t[1]-t[0])/h)\n",
    "    tiempo = np.linspace(t[0],t[1],N)\n",
    "    sol = np.zeros((len(x0),N))\n",
    "    sol[:,0] = x0\n",
    "    for i in range(N-1):\n",
    "        sol[:,i+1] = sol[:,i] + h*g(sol[:,i])\n",
    "    return sol"
   ]
  },
  {
   "cell_type": "code",
   "execution_count": 6,
   "id": "846a374d-927a-47ed-aba3-c2706508f618",
   "metadata": {},
   "outputs": [
    {
     "data": {
      "text/plain": [
       "array([[ 1.        ,  1.        ,  0.99158529,  0.97475587,  0.9495575 ,\n",
       "         0.91608349,  0.87447789,  0.82494007,  0.76773015,  0.70317517,\n",
       "         0.63167515,  0.5537087 ,  0.46983727,  0.38070739,  0.2870501 ,\n",
       "         0.18967703,  0.08947273, -0.012617  , -0.11560026, -0.21845735,\n",
       "        -0.32016101, -0.41969744, -0.51608667, -0.60840105, -0.69578064,\n",
       "        -0.77744466, -0.85269884, -0.92093841, -0.98164739, -1.03439468,\n",
       "        -1.07882782],\n",
       "       [ 0.        , -0.0841471 , -0.1682942 , -0.25198367, -0.33474016,\n",
       "        -0.41605596, -0.49537824, -0.57209912, -0.64554983, -0.71500022,\n",
       "        -0.77966451, -0.83871426, -0.8912988 , -0.93657292, -0.97373065,\n",
       "        -1.00204308, -1.02089725, -1.02983259, -1.02857092, -1.01703663,\n",
       "        -0.99536424, -0.9638923 , -0.92314388, -0.87379586, -0.81664024,\n",
       "        -0.75254176, -0.68239571, -0.60708982, -0.52747284, -0.44433146,\n",
       "        -0.35837614]])"
      ]
     },
     "execution_count": 6,
     "metadata": {},
     "output_type": "execute_result"
    }
   ],
   "source": [
    "EDO_Euler(pendulo_simple,[1,0],[0,np.pi])"
   ]
  },
  {
   "cell_type": "markdown",
   "id": "c77c6266-1bff-4f5c-860a-1db659e24cbc",
   "metadata": {},
   "source": [
    "Fricción numérica"
   ]
  },
  {
   "cell_type": "code",
   "execution_count": null,
   "id": "a12b1ac2-32f5-49e7-8a76-3f9ea54b154f",
   "metadata": {},
   "outputs": [],
   "source": []
  }
 ],
 "metadata": {
  "kernelspec": {
   "display_name": "Python 3 (ipykernel)",
   "language": "python",
   "name": "python3"
  },
  "language_info": {
   "codemirror_mode": {
    "name": "ipython",
    "version": 3
   },
   "file_extension": ".py",
   "mimetype": "text/x-python",
   "name": "python",
   "nbconvert_exporter": "python",
   "pygments_lexer": "ipython3",
   "version": "3.13.2"
  }
 },
 "nbformat": 4,
 "nbformat_minor": 5
}
