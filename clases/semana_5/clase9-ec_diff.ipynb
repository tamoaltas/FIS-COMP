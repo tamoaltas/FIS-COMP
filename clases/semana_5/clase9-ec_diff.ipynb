{
 "cells": [
  {
   "cell_type": "markdown",
   "id": "342c2853-e88c-4ff2-aee6-ee81a584acfb",
   "metadata": {},
   "source": [
    "### Ecuaciones Diferenciales"
   ]
  },
  {
   "cell_type": "code",
   "execution_count": 1,
   "id": "19b1135b-1311-429f-b5fb-e61d967ebfee",
   "metadata": {},
   "outputs": [],
   "source": [
    "import math as m\n",
    "import numpy as np\n",
    "import matplotlib.pyplot as plt"
   ]
  },
  {
   "cell_type": "markdown",
   "id": "51850fcd-e98f-4e7e-b737-7dd2a83f69db",
   "metadata": {},
   "source": [
    "Manejo de matrices/vectores"
   ]
  },
  {
   "cell_type": "code",
   "execution_count": 2,
   "id": "3b0163c2-f586-481f-9ebf-bf91d2ec660d",
   "metadata": {},
   "outputs": [
    {
     "data": {
      "text/plain": [
       "(array([2, 5]), array([4, 9]), array([ 8, 45]), 53)"
      ]
     },
     "execution_count": 2,
     "metadata": {},
     "output_type": "execute_result"
    }
   ],
   "source": [
    "x = np.array([2,5])\n",
    "y = np.array([4,9])\n",
    "x, y, x*y, np.dot(x,y)"
   ]
  },
  {
   "cell_type": "code",
   "execution_count": 4,
   "id": "6c3c92ab-5963-42f8-961e-e8f7a3154439",
   "metadata": {},
   "outputs": [
    {
     "data": {
      "text/plain": [
       "(array([[3, 5],\n",
       "        [7, 2]]),\n",
       " array([31, 24]))"
      ]
     },
     "execution_count": 4,
     "metadata": {},
     "output_type": "execute_result"
    }
   ],
   "source": [
    "M = np.array([[3,5],[7,2]])\n",
    "M, np.dot(M,x)"
   ]
  },
  {
   "cell_type": "code",
   "execution_count": 6,
   "id": "7826af47-770b-4a69-98f3-0ab66ac05d5b",
   "metadata": {},
   "outputs": [
    {
     "data": {
      "text/plain": [
       "(array([[3, 7],\n",
       "        [5, 2]]),\n",
       " 5,\n",
       " -29.000000000000004)"
      ]
     },
     "execution_count": 6,
     "metadata": {},
     "output_type": "execute_result"
    }
   ],
   "source": [
    "np.transpose(M), np.trace(M), np.linalg.det(M)"
   ]
  },
  {
   "cell_type": "code",
   "execution_count": 7,
   "id": "1f31ecc5-8d1b-45ba-b96a-0130e44bb085",
   "metadata": {},
   "outputs": [
    {
     "data": {
      "text/plain": [
       "array([[3, 5],\n",
       "       [7, 2]])"
      ]
     },
     "execution_count": 7,
     "metadata": {},
     "output_type": "execute_result"
    }
   ],
   "source": [
    "M"
   ]
  },
  {
   "cell_type": "code",
   "execution_count": null,
   "id": "846a374d-927a-47ed-aba3-c2706508f618",
   "metadata": {},
   "outputs": [],
   "source": []
  }
 ],
 "metadata": {
  "kernelspec": {
   "display_name": "Python 3 (ipykernel)",
   "language": "python",
   "name": "python3"
  },
  "language_info": {
   "codemirror_mode": {
    "name": "ipython",
    "version": 3
   },
   "file_extension": ".py",
   "mimetype": "text/x-python",
   "name": "python",
   "nbconvert_exporter": "python",
   "pygments_lexer": "ipython3",
   "version": "3.13.2"
  }
 },
 "nbformat": 4,
 "nbformat_minor": 5
}
