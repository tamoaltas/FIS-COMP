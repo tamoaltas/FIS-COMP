{
 "cells": [
  {
   "cell_type": "code",
   "execution_count": null,
   "id": "5e1baf3e-3812-4eda-a1e4-1295a3383d92",
   "metadata": {},
   "outputs": [],
   "source": [
    "print('mogus')"
   ]
  }
 ],
 "metadata": {
  "kernelspec": {
   "display_name": "Python 3 (ipykernel)",
   "language": "python",
   "name": "python3"
  },
  "language_info": {
   "codemirror_mode": {
    "name": "ipython",
    "version": 3
   },
   "file_extension": ".py",
   "mimetype": "text/x-python",
   "name": "python",
   "nbconvert_exporter": "python",
   "pygments_lexer": "ipython3",
   "version": "3.13.1"
  }
 },
 "nbformat": 4,
 "nbformat_minor": 5
}
