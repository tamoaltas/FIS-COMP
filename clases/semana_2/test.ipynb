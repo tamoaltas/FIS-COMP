{
 "cells": [
  {
   "cell_type": "code",
   "execution_count": 3,
   "id": "5e1baf3e-3812-4eda-a1e4-1295a3383d92",
   "metadata": {},
   "outputs": [],
   "source": [
    "def a():\n",
    "    print('mogus')"
   ]
  },
  {
   "cell_type": "code",
   "execution_count": 6,
   "id": "5a119c35-4c27-44c9-b8c4-6373ce6f85a6",
   "metadata": {},
   "outputs": [
    {
     "name": "stdout",
     "output_type": "stream",
     "text": [
      "mogus\n",
      "CPU times: user 102 μs, sys: 7 μs, total: 109 μs\n",
      "Wall time: 102 μs\n"
     ]
    }
   ],
   "source": [
    "%%time\n",
    "a()"
   ]
  },
  {
   "cell_type": "markdown",
   "id": "c18e83da-50d0-4671-aab4-091bfc334b06",
   "metadata": {},
   "source": [
    "https://numba.pydata.org/"
   ]
  },
  {
   "cell_type": "code",
   "execution_count": null,
   "id": "cde1d5ed-1294-44b6-a671-895b96af18af",
   "metadata": {},
   "outputs": [],
   "source": []
  }
 ],
 "metadata": {
  "kernelspec": {
   "display_name": "Python 3 (ipykernel)",
   "language": "python",
   "name": "python3"
  },
  "language_info": {
   "codemirror_mode": {
    "name": "ipython",
    "version": 3
   },
   "file_extension": ".py",
   "mimetype": "text/x-python",
   "name": "python",
   "nbconvert_exporter": "python",
   "pygments_lexer": "ipython3",
   "version": "3.13.1"
  }
 },
 "nbformat": 4,
 "nbformat_minor": 5
}
