{
 "cells": [
  {
   "cell_type": "markdown",
   "id": "41c20a79-00be-424c-b16a-5e17e63e252d",
   "metadata": {},
   "source": [
    "## Tarea 1 - Física Computacional\n",
    "**Román Tamez Vidal Tamayo Tamez** - (tamoaltas)"
   ]
  },
  {
   "cell_type": "code",
   "execution_count": 3,
   "id": "2d0d35cd-508b-4617-a5f8-d355defda6a7",
   "metadata": {},
   "outputs": [],
   "source": [
    "import math as m\n",
    "import matplotlib.pyplot as plt\n",
    "import numpy as np"
   ]
  },
  {
   "cell_type": "markdown",
   "id": "9b3d8f62-6d73-497a-91b5-6f793c4b4a8c",
   "metadata": {},
   "source": [
    "### Problema 1\n",
    "Realice una función que implemente el algoritmo de la raíz cuadrada de un número hasta la cifra *n* y que vaya imprimiendo cada una de las aproximaciones."
   ]
  },
  {
   "cell_type": "code",
   "execution_count": 4,
   "id": "beec42ac-2be1-49c5-8445-97bf8031c809",
   "metadata": {},
   "outputs": [],
   "source": [
    "def siguiente_digito(dividendo, cola):\n",
    "  '''\n",
    "  Obtiene 'd' entre 1 y 9 de manera que (int(cola)*10 + (d+1))*(d+1) > dividendo.\n",
    "  si se cumple esto para algún d, se regresa:\n",
    "  d ,  dividendo - (int(cola)*10 + d)*d\n",
    "\n",
    "  Si no se cumple, regresa:\n",
    "  0, dividendo\n",
    "  '''\n",
    "  dividendo = int(dividendo)\n",
    "  cola = int(cola)\n",
    "\n",
    "  for digito in range(1,11):\n",
    "      test = (cola*10 + digito)*digito\n",
    "\n",
    "      if test > dividendo:\n",
    "        d = digito - 1\n",
    "        res = dividendo - (cola*10 + d)*d\n",
    "        return d, res\n",
    "\n",
    "  return 0, dividendo"
   ]
  },
  {
   "cell_type": "code",
   "execution_count": 5,
   "id": "9d056c84-6843-482b-a652-36fd8f38272e",
   "metadata": {},
   "outputs": [],
   "source": [
    "def formato_ceros_punto(digitos, pos_punto):\n",
    "  if len(digitos) <= pos_punto:\n",
    "    # Se agregan ceros enteros si faltan\n",
    "    return digitos + '0'*(pos_punto - len(digitos))\n",
    "  else:\n",
    "    # Se coloca el punto\n",
    "    return digitos[:pos_punto] + '.' + digitos[pos_punto:]"
   ]
  },
  {
   "cell_type": "code",
   "execution_count": 6,
   "id": "7960ea13-cefc-46a0-a939-c787f5f66836",
   "metadata": {},
   "outputs": [],
   "source": [
    "def raiz(n, num_digitos):\n",
    "  # Se convierte n a un float por comodidad\n",
    "  if type(n) == int:\n",
    "    n = float(n)\n",
    "    n_es_entero = True\n",
    "  else:\n",
    "    n_es_entero = False\n",
    "\n",
    "  n_str = str(n)\n",
    "  i_punto = n_str.find('.')\n",
    "  enteros, decimales = [], []\n",
    "\n",
    "  # Se obtienen los pares de enteros antes del punto decimal\n",
    "  for i in range(i_punto - 1, -1  , -2):\n",
    "    if i == 0:\n",
    "      enteros.append(str(n_str[i]))\n",
    "    else:\n",
    "      enteros.append(str(n_str[i - 1]) + str(n_str[i]))\n",
    "\n",
    "  if (not n_es_entero): # Hay un punto decimal\n",
    "    # Se borra el cero si no hay enteros\n",
    "    if n_str[0] == '0' and i_punto == 1:\n",
    "      enteros = []\n",
    "\n",
    "    # Se obtienen los pares de decimales después del punto decimal\n",
    "    for i in range(i_punto + 1, len(n_str), 2):\n",
    "      if i == len(n_str) - 1:\n",
    "        decimales.append(str(n_str[i]) + '0')\n",
    "      else:\n",
    "        decimales.append(str(n_str[i]) + str(n_str[i + 1]) )\n",
    "\n",
    "  enteros = enteros[::-1] # Se invierte el orden de los elementos\n",
    "  print(enteros, '.',decimales)\n",
    "\n",
    "  # Todos los pares de dígitos + extras para más dígitos\n",
    "  # Operar sobre cada par resultará en un dígito más para la aproximación\n",
    "  fifo = enteros + decimales + ['00']*(num_digitos - len(enteros) - len(decimales))\n",
    "  print(fifo)\n",
    "\n",
    "  pos_punto = len(enteros)\n",
    "  n_digits = len(enteros) + len(decimales)\n",
    "\n",
    "  digitos = '' # Digitos de la aproximación\n",
    "  res = 0 # Residuo tras la 'división'\n",
    "  cola = 0 # 2 + int(digitos)\n",
    "  for i in range(num_digitos):\n",
    "\n",
    "    dividendo = str(res) + fifo[i] # El siguiente número a 'dividir'\n",
    "    # print('Dividendo: ', dividendo)\n",
    "\n",
    "    # Se calcula el siguiente digito y el residuo\n",
    "    digito, res = siguiente_digito(dividendo, cola)\n",
    "\n",
    "    if res == 0 and i >= n_digits:\n",
    "      print('Se ha llegado a una raíz exacta')\n",
    "      break\n",
    "\n",
    "    digitos += str(digito)\n",
    "    cola = int(digitos) * 2\n",
    "\n",
    "    print('Aproximación:', formato_ceros_punto(digitos, pos_punto))\n",
    "\n",
    "  raiz_str = formato_ceros_punto(digitos, pos_punto)\n",
    "  if raiz_str.find('.') == -1: # No hay punto decimal\n",
    "    return int(raiz_str)\n",
    "  else:\n",
    "    return float(raiz_str)"
   ]
  },
  {
   "cell_type": "code",
   "execution_count": 18,
   "id": "987b97e7-60f2-4c95-9df5-0c9acd210fb8",
   "metadata": {},
   "outputs": [
    {
     "name": "stdout",
     "output_type": "stream",
     "text": [
      "['2', '25'] . []\n",
      "['2', '25', '00']\n",
      "Aproximación: 10\n",
      "Aproximación: 15\n",
      "Se ha llegado a una raíz exacta\n",
      "15\n",
      "-----------------------------------\n",
      "['2', '25'] . []\n",
      "['2', '25']\n",
      "Aproximación: 10\n",
      "10\n",
      "-----------------------------------\n",
      "['2'] . []\n",
      "['2', '00', '00', '00', '00', '00', '00', '00']\n",
      "Aproximación: 1\n",
      "Aproximación: 1.4\n",
      "Aproximación: 1.41\n",
      "Aproximación: 1.414\n",
      "Aproximación: 1.4142\n",
      "Aproximación: 1.41421\n",
      "Aproximación: 1.414213\n",
      "Aproximación: 1.4142135\n",
      "1.4142135\n",
      "-----------------------------------\n",
      "['16'] . ['32', '16']\n",
      "['16', '32', '16', '00']\n",
      "Aproximación: 4\n",
      "Aproximación: 4.0\n",
      "Aproximación: 4.04\n",
      "Se ha llegado a una raíz exacta\n",
      "4.04\n"
     ]
    }
   ],
   "source": [
    "print(raiz(225,3))\n",
    "print('-----------------------------------')\n",
    "print(raiz(225,1))\n",
    "print('-----------------------------------')\n",
    "print(raiz(2,8))\n",
    "print('-----------------------------------')\n",
    "print(raiz(16.3216,4))"
   ]
  },
  {
   "cell_type": "markdown",
   "id": "8a8828d6-9048-46ff-b73e-e7ff896ad65c",
   "metadata": {},
   "source": [
    "Los siguientes bloques de código prueban la función anterior..."
   ]
  },
  {
   "cell_type": "code",
   "execution_count": 7,
   "id": "0495a681-3faa-42a7-933e-efe6a5bca700",
   "metadata": {
    "jupyter": {
     "source_hidden": true
    }
   },
   "outputs": [],
   "source": [
    "# https://stackoverflow.com/questions/8391411/how-to-block-calls-to-print\n",
    "import os, sys\n",
    "\n",
    "class HiddenPrints:\n",
    "    def __enter__(self):\n",
    "        self._original_stdout = sys.stdout\n",
    "        sys.stdout = open(os.devnull, 'w')\n",
    "\n",
    "    def __exit__(self, exc_type, exc_val, exc_tb):\n",
    "        sys.stdout.close()\n",
    "        sys.stdout = self._original_stdout"
   ]
  },
  {
   "cell_type": "code",
   "execution_count": 8,
   "id": "c8325cce-717e-4bb6-a214-3bd613ba1d66",
   "metadata": {
    "jupyter": {
     "source_hidden": true
    }
   },
   "outputs": [],
   "source": [
    "import random\n",
    "\n",
    "def truncate(f, n):\n",
    "    '''\n",
    "    Truncates/pads a float f to n digits without rounding\n",
    "    '''\n",
    "    f_str = str(f)\n",
    "    point_pos = f_str.find('.')\n",
    "    digits = f_str.replace('.','')[:n]\n",
    "\n",
    "    if len(digits) <= point_pos:\n",
    "      # Zeroes are added if needed\n",
    "      return int(digits + '0'*(point_pos - len(digits)))\n",
    "    else:\n",
    "      # Decimal point is placed\n",
    "      return float(digits[:point_pos] + '.' + digits[point_pos:])\n",
    "\n",
    "def test_raiz(N, ints_only = False):\n",
    "  for i in range(N):\n",
    "    \n",
    "    if ints_only:\n",
    "      n = random.randint(1,10000)\n",
    "    else:\n",
    "      n = random.uniform(0,100)\n",
    "\n",
    "    precision = random.randint(1,6)\n",
    "\n",
    "    # Se suprimen las llamadas a print()\n",
    "    with HiddenPrints():\n",
    "      raiz_test = raiz(n, precision)\n",
    "\n",
    "    raiz_real = truncate(n**0.5, precision)\n",
    "\n",
    "    print('n', n, '\\t precision', precision ,'\\t Aprox:', raiz_test, '\\t Real:', raiz_real )\n",
    "\n",
    "    diff = abs(raiz_real - raiz_test)\n",
    "\n",
    "    if(diff > 1**(-precision)):\n",
    "      print('Test fallido', '\\t diff:', diff)\n",
    "      return False\n",
    "\n",
    "  print('Test finalizado')\n",
    "  return True"
   ]
  },
  {
   "cell_type": "code",
   "execution_count": 14,
   "id": "e9950ae0-2dc7-415e-ab13-9b4c7cd11338",
   "metadata": {},
   "outputs": [
    {
     "name": "stdout",
     "output_type": "stream",
     "text": [
      "Test de raiz() con enteros finalizada\n",
      "Test de raiz() con flotantes finalizada\n"
     ]
    }
   ],
   "source": [
    "with HiddenPrints():\n",
    "    test_ints =  test_raiz(100, True)\n",
    "    test_floats = test_raiz(100, False)\n",
    "\n",
    "if (test_ints):\n",
    "    print('Test de raiz() con enteros finalizada')\n",
    "else:\n",
    "    print('Test con enteros ha marcado error')\n",
    "\n",
    "if (test_floats):\n",
    "    print('Test de raiz() con flotantes finalizada')\n",
    "else:\n",
    "    print('Test con flotantes ha marcado error')"
   ]
  },
  {
   "cell_type": "markdown",
   "id": "7056dd06-8a3d-4111-91fd-9845f82a69c5",
   "metadata": {},
   "source": [
    "### Problema 2\n",
    "Haga la gráfica de la función $ f(x) = \\cot(x) $ en el intervalo $[-4\\pi, 4\\pi]$. La gráfica no debe tener líneas verticales."
   ]
  },
  {
   "cell_type": "code",
   "execution_count": null,
   "id": "0891e478-2d3c-471c-8ecf-be591fb4701a",
   "metadata": {},
   "outputs": [],
   "source": [
    "x = np.linspace[-4*np.pi, 4*np.pi]\n",
    "y = np."
   ]
  }
 ],
 "metadata": {
  "kernelspec": {
   "display_name": "Python 3 (ipykernel)",
   "language": "python",
   "name": "python3"
  },
  "language_info": {
   "codemirror_mode": {
    "name": "ipython",
    "version": 3
   },
   "file_extension": ".py",
   "mimetype": "text/x-python",
   "name": "python",
   "nbconvert_exporter": "python",
   "pygments_lexer": "ipython3",
   "version": "3.12.7"
  }
 },
 "nbformat": 4,
 "nbformat_minor": 5
}
