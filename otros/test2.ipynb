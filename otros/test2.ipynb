{
 "cells": [
  {
   "cell_type": "code",
   "execution_count": 7,
   "id": "028813d4",
   "metadata": {},
   "outputs": [],
   "source": [
    "import numpy as np\n",
    "import matplotlib.pyplot as plt\n",
    "# Reuse the curvature estimator function\n",
    "from scipy.spatial import cKDTree\n",
    "from sklearn.linear_model import LinearRegression"
   ]
  },
  {
   "cell_type": "code",
   "execution_count": 60,
   "id": "9624abfd",
   "metadata": {},
   "outputs": [],
   "source": [
    "def compute_second_derivatives(k_points, energies, k_target, delta=1e-4):\n",
    "    tree = cKDTree(k_points)\n",
    "    alpha_est = np.zeros(3)\n",
    "\n",
    "    for i in range(3):\n",
    "        k_plus = k_target.copy()\n",
    "        k_plus[i] += delta\n",
    "        k_minus = k_target.copy()\n",
    "        k_minus[i] -= delta\n",
    "\n",
    "        _, idx_plus = tree.query(k_plus)\n",
    "        _, idx_minus = tree.query(k_minus)\n",
    "        _, idx_center = tree.query(k_target)\n",
    "\n",
    "        E_plus = energies[idx_plus]\n",
    "        E_minus = energies[idx_minus]\n",
    "        E_center = energies[idx_center]\n",
    "\n",
    "        print(E_center)\n",
    "\n",
    "        alpha_est[i] = (E_plus - 2 * E_center + E_minus) / (delta ** 2)\n",
    "        print(alpha_est[i])\n",
    "\n",
    "    return alpha_est\n",
    "\n",
    "# Classify the critical point\n",
    "def classify_critical_point(alphas):\n",
    "    signs = np.sign(alphas)\n",
    "    pos = np.sum(signs > 0)\n",
    "    neg = np.sum(signs < 0)\n",
    "    if pos == 3:\n",
    "        return \"Minimum\"\n",
    "    elif neg == 3:\n",
    "        return \"Maximum\"\n",
    "    elif pos == 2:\n",
    "        return \"Saddle point II\"\n",
    "    elif pos == 1:\n",
    "        return \"Saddle point I\"\n",
    "    else:\n",
    "        return \"Unknown\""
   ]
  },
  {
   "cell_type": "code",
   "execution_count": 70,
   "id": "5dd85473",
   "metadata": {},
   "outputs": [],
   "source": [
    "# Simulate 3D k-space grid\n",
    "k_vals = np.linspace(-0.1, 0.1, 100)\n",
    "kx, ky, kz = np.meshgrid(k_vals, k_vals, k_vals, indexing='ij')\n",
    "k_points = np.vstack([kx.ravel(), ky.ravel(), kz.ravel()]).T"
   ]
  },
  {
   "cell_type": "code",
   "execution_count": 71,
   "id": "558db61e",
   "metadata": {},
   "outputs": [],
   "source": [
    "# Puntos de alta simetría\n",
    "Gamma = np.array([0, 0, 0])\n",
    "P = np.array([0.5, 0.5, 0.5])\n",
    "H = np.array([1, 0, 0])\n",
    "N = np.array([0.5, 0.5, 0])\n",
    "sym_points = [Gamma, H, P, N]\n",
    "\n",
    "# Funciones de energía\n",
    "G_vectors = [\n",
    "    np.array([0, 0, 0]),\n",
    "    np.array([1, 0, 0]),\n",
    "    np.array([1, 1, 0]),\n",
    "]\n",
    "def E_free_e(k, G=G_vectors[0]): \n",
    "    return np.linalg.norm(k + G)**2 \n",
    "\n",
    "def E_tight_binding(k, A = 0):\n",
    "    return A + sum([np.cos(np.pi*k[i]) for i in range(3)])\n",
    "\n",
    "\n",
    "energies = [(np.array([E_free_e(k) for k in (k_points.copy() + sym_points[i])])) for i in range(4)]"
   ]
  },
  {
   "cell_type": "code",
   "execution_count": 72,
   "id": "f4ac44ca",
   "metadata": {},
   "outputs": [],
   "source": [
    "def fit_paraboloid(k_points, energies, k_center, radius=0.05):\n",
    "    \"\"\"\n",
    "    Fit a quadratic surface E(k) = a0 + a1*kx + a2*ky + a3*kz + a4*kx^2 + a5*ky^2 + a6*kz^2\n",
    "    to estimate second derivatives.\n",
    "    \"\"\"\n",
    "    # Shift all k-points relative to k_center\n",
    "    k_shifted = k_points - k_center\n",
    "    mask = np.linalg.norm(k_shifted, axis=1) < radius\n",
    "    k_local = k_shifted[mask]\n",
    "    E_local = energies[mask]\n",
    "    \n",
    "    # Build the design matrix for a paraboloid (ignoring cross terms for simplicity)\n",
    "    A = np.column_stack([\n",
    "        np.ones(len(k_local)),        # a0\n",
    "        k_local[:, 0],                # a1 * kx\n",
    "        k_local[:, 1],                # a2 * ky\n",
    "        k_local[:, 2],                # a3 * kz\n",
    "        k_local[:, 0]**2,             # a4 * kx^2\n",
    "        k_local[:, 1]**2,             # a5 * ky^2\n",
    "        k_local[:, 2]**2              # a6 * kz^2\n",
    "    ])\n",
    "\n",
    "    model = LinearRegression().fit(A, E_local)\n",
    "    coeffs = model.coef_\n",
    "    \n",
    "    # Second derivatives: 2*a4, 2*a5, 2*a6\n",
    "    alpha = 2 * np.array([coeffs[4], coeffs[5], coeffs[6]])\n",
    "    return alpha"
   ]
  },
  {
   "cell_type": "code",
   "execution_count": 73,
   "id": "56caad71",
   "metadata": {},
   "outputs": [
    {
     "name": "stdout",
     "output_type": "stream",
     "text": [
      "Estimated α values:  [2. 2. 2.]\n",
      "Classification:  Minimum\n",
      "Estimated α values:  [2. 2. 2.]\n",
      "Classification:  Minimum\n",
      "Estimated α values:  [2. 2. 2.]\n",
      "Classification:  Minimum\n",
      "Estimated α values:  [2. 2. 2.]\n",
      "Classification:  Minimum\n"
     ]
    }
   ],
   "source": [
    "# Run estimation\n",
    "for i in range(4):\n",
    "    alpha_estimated = fit_paraboloid((k_points.copy() + sym_points[i]), energies[i], sym_points[i], 0.1)\n",
    "    print(\"Estimated α values: \", alpha_estimated)\n",
    "    print(\"Classification: \", classify_critical_point(alpha_estimated))"
   ]
  },
  {
   "cell_type": "code",
   "execution_count": null,
   "id": "e609a7e0",
   "metadata": {},
   "outputs": [],
   "source": []
  },
  {
   "cell_type": "code",
   "execution_count": null,
   "id": "47e4bda4",
   "metadata": {},
   "outputs": [],
   "source": []
  },
  {
   "cell_type": "code",
   "execution_count": null,
   "id": "b79b11c6",
   "metadata": {},
   "outputs": [],
   "source": []
  }
 ],
 "metadata": {
  "kernelspec": {
   "display_name": "fis-comp",
   "language": "python",
   "name": "python3"
  },
  "language_info": {
   "codemirror_mode": {
    "name": "ipython",
    "version": 3
   },
   "file_extension": ".py",
   "mimetype": "text/x-python",
   "name": "python",
   "nbconvert_exporter": "python",
   "pygments_lexer": "ipython3",
   "version": "3.11.11"
  }
 },
 "nbformat": 4,
 "nbformat_minor": 5
}
