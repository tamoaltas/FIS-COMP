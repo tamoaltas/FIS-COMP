{
 "cells": [
  {
   "cell_type": "markdown",
   "id": "d1d0517d",
   "metadata": {},
   "source": [
    "# Estado Sólido I - Tarea 6\n",
    "## Densidad de estados y transporte electrónico - Ej. 3\n",
    "\n",
    "Román Tamez Vidal Tamayo Tamez - (tamoaltas)"
   ]
  },
  {
   "cell_type": "code",
   "execution_count": null,
   "id": "f4016c22",
   "metadata": {},
   "outputs": [],
   "source": [
    "import numpy as np\n",
    "import matplotlib.pyplot as plt\n",
    "from scipy.ndimage import gaussian_filter1d\n",
    "from tqdm import tqdm"
   ]
  },
  {
   "cell_type": "code",
   "execution_count": null,
   "id": "3c4cebd3",
   "metadata": {},
   "outputs": [],
   "source": [
    "import matplotlib\n",
    "# Para el formato de las gráficas\n",
    "matplotlib.rcParams.update(\n",
    "    {\n",
    "        \"font.family\": \"serif\",\n",
    "        \"text.usetex\": True,\n",
    "        \"pgf.rcfonts\": False,\n",
    "        \"axes.unicode_minus\": False,\n",
    "        \"font.size\": 12,\n",
    "        \"pgf.preamble\": \"\\n\".join([ # Aún más formato\n",
    "        r\"\\usepackage[utf8]{inputenc}\",\n",
    "        r\"\\usepackage[T1]{fontenc}\",\n",
    "        ])\n",
    "    }\n",
    ")"
   ]
  },
  {
   "cell_type": "markdown",
   "id": "6007c68c",
   "metadata": {},
   "source": [
    "### Parámetros"
   ]
  },
  {
   "cell_type": "code",
   "execution_count": null,
   "id": "77a29f4f",
   "metadata": {},
   "outputs": [],
   "source": [
    "# Puntos de alta simetría\n",
    "Gamma = np.array([0, 0, 0])\n",
    "P = np.array([0.5, 0.5, 0.5])\n",
    "H = np.array([1, 0, 0])\n",
    "N = np.array([0.5, 0.5, 0])\n",
    "\n",
    "sym_points = [Gamma, H, P, N, Gamma]\n",
    "labels = [r'$\\Gamma$', 'H', 'P', 'N', r'$\\Gamma$']"
   ]
  },
  {
   "cell_type": "code",
   "execution_count": null,
   "id": "4ceb9729",
   "metadata": {},
   "outputs": [],
   "source": [
    "def map(arr, new_min, new_max):\n",
    "    '''\n",
    "    Mapea un arrelo 'arr' a otro reescalado entre [new_min, new_max]\n",
    "    '''\n",
    "    return (arr - min(arr)) / (max(arr) - min(arr)) * (new_max - new_min) + new_min"
   ]
  },
  {
   "cell_type": "code",
   "execution_count": null,
   "id": "b22c3b42",
   "metadata": {},
   "outputs": [],
   "source": [
    "# Número de puntos de evaluación entre cada trayectoria\n",
    "num_p = 100\n",
    "\n",
    "def construir_trayectorias(k_points, num_puntos=100):\n",
    "    global num_p\n",
    "    num_p = num_puntos\n",
    "\n",
    "    # Construcción de las trayectorias\n",
    "    k_path = [k_points[0]]\n",
    "    k_dist = [0]\n",
    "    for i in range(len(k_points)-1):\n",
    "        segment = np.linspace(k_points[i], k_points[i+1], num_p)[1:]\n",
    "        # print(segment[0],segment[-1])\n",
    "        k_path.extend(segment)\n",
    "        dist = np.linalg.norm(k_points[i+1] - k_points[i]) # Distancia entre los puntos de alta simetría\n",
    "        ini = k_dist[-1] # Distancia a la que se iniciará\n",
    "        dists = map(np.linspace(ini, dist + ini, num_p), i, i+1)\n",
    "        k_dist.extend(dists[1:])\n",
    "\n",
    "    k_path = np.array(k_path)\n",
    "\n",
    "    return k_path, k_dist"
   ]
  },
  {
   "cell_type": "code",
   "execution_count": null,
   "id": "17cc855e",
   "metadata": {},
   "outputs": [],
   "source": [
    "def grapher(k_dist, bands, labels, title, doPlot=True):\n",
    "    plt.figure(figsize=(6, 4))\n",
    "    for band in bands:\n",
    "        if doPlot:\n",
    "            plt.plot(k_dist, band, 'b', alpha=0.4)\n",
    "        else:\n",
    "            plt.scatter(k_dist[:num_p], band[:num_p])\n",
    "            plt.scatter(k_dist[num_p:num_p*2-1], band[num_p:num_p*2-1])\n",
    "            plt.scatter(k_dist[num_p*2-1:], band[num_p*2-1:])\n",
    "\n",
    "\n",
    "    indices = [i*(num_p-1) for i in range(len(sym_points))]\n",
    "    ticks = [k_dist[i] for i in indices]\n",
    "    plt.xticks(ticks,labels)\n",
    "    for t in ticks:\n",
    "        plt.axvline(x=t, color='gray', linestyle='--')\n",
    "    \n",
    "    plt.title(title)\n",
    "    plt.ylabel(\"Energía (unidades norm.)\")\n",
    "    plt.xlabel(r'Trayectoria de $\\mathbf{k}$')\n",
    "    plt.grid(True)\n",
    "    plt.tight_layout()\n",
    "    plt.show()"
   ]
  },
  {
   "cell_type": "markdown",
   "id": "ecd19d85",
   "metadata": {},
   "source": [
    "### Electrón libre"
   ]
  },
  {
   "cell_type": "code",
   "execution_count": null,
   "id": "f6158b1d",
   "metadata": {},
   "outputs": [],
   "source": [
    "# Vectores de traslación\n",
    "G_vectors = [\n",
    "    np.array([0, 0, 0]),\n",
    "    np.array([1, 0, 0]),\n",
    "    np.array([1, 1, 0]),\n",
    "]\n",
    "\n",
    "k_path, k_dist = construir_trayectorias(sym_points, 100)\n",
    "# Cálculo de las energías en el modelo del electrón libre para distintos G\n",
    "def E_free_e(k, G=G_vectors[0]): \n",
    "    return np.linalg.norm(k + G)**2 \n",
    "\n",
    "bands = []\n",
    "for G in G_vectors:\n",
    "    band = [E_free_e(k, G) for k in k_path]\n",
    "    bands.append(band)"
   ]
  },
  {
   "cell_type": "code",
   "execution_count": null,
   "id": "27472565",
   "metadata": {},
   "outputs": [],
   "source": [
    "grapher(k_dist, [bands[0]], labels, \"1era banda para el electrón libre en una red BCC\", True)"
   ]
  },
  {
   "cell_type": "markdown",
   "id": "870ee8d1",
   "metadata": {},
   "source": [
    "#### Densidad de estados"
   ]
  },
  {
   "cell_type": "code",
   "execution_count": null,
   "id": "b81eace6",
   "metadata": {},
   "outputs": [],
   "source": [
    "kmax = 1  # Max k a calcular\n",
    "sigma = 1.0       # Ensanchamiento para el alisado gaussiano\n",
    "# Mallado en el k-espacio\n",
    "k_vals = np.linspace(0, kmax, 200)\n",
    "kx, ky, kz = np.meshgrid(k_vals, k_vals, k_vals, indexing='ij')\n",
    "k_points = np.vstack([kx.ravel(), ky.ravel(), kz.ravel()]).T"
   ]
  },
  {
   "cell_type": "code",
   "execution_count": null,
   "id": "78a62331",
   "metadata": {},
   "outputs": [],
   "source": [
    "E = [np.array([E_free_e(k, G) for k in tqdm(k_points)]) for G in G_vectors]"
   ]
  },
  {
   "cell_type": "code",
   "execution_count": null,
   "id": "ca19ceb3",
   "metadata": {},
   "outputs": [],
   "source": [
    "def grapher2(k_dist, bands, energias_bandas, title):\n",
    "    fig, ax = plt.subplots(1, 2, figsize=(10, 6), gridspec_kw={'width_ratios': [3, 1]}, sharey=True)\n",
    "\n",
    "    # Gráficas estructura de bandas\n",
    "    ax[0].plot(k_dist, bands[0], color='black')\n",
    "    for band in bands:\n",
    "        ax[0].plot(k_dist, band, color='black')\n",
    "\n",
    "    # --------------  FORMATO  --------------\n",
    "    indices = [i*(num_p-1) for i in range(len(sym_points))]\n",
    "    ticks = [k_dist[i] for i in indices]\n",
    "    ax[0].set_xticks(ticks,labels)\n",
    "    for t in ticks:\n",
    "        ax[0].axvline(x=t, color='gray', linestyle='--')\n",
    "\n",
    "    ax[0].set_xlabel(r'Trayectoria de $\\mathbf{k}$')\n",
    "    ax[0].set_ylabel(\"Energía (unidades norm.)\")\n",
    "    ax[0].set_title(title)\n",
    "    ax[0].grid()\n",
    "    # ---------------------------------------\n",
    "\n",
    "    # Gráficas densidad de estados\n",
    "    num_bins = 200\n",
    "    for e_banda in energias_bandas:\n",
    "        # Se cuenta el número de energías en cierto rango\n",
    "        dos, bins = np.histogram(e_banda, bins=num_bins, density=True)\n",
    "        dos = gaussian_filter1d(dos, sigma=sigma)  # Smoothed DOS\n",
    "        bin_centers = 0.5 * (bins[:-1] + bins[1:])\n",
    "        ax[1].plot(dos, bin_centers)\n",
    "\n",
    "    ax[1].set_xlabel('DOS')\n",
    "    ax[1].set_title('Densidad de Estados')\n",
    "\n",
    "    plt.tight_layout()\n",
    "    plt.show()"
   ]
  },
  {
   "cell_type": "code",
   "execution_count": null,
   "id": "dd622e0e",
   "metadata": {},
   "outputs": [],
   "source": [
    "energias_bandas = [\n",
    "            E[0][(E[0] >= 0) & (E[0] <= 1)],\n",
    "            E[1][(E[1] >= 1) & (E[1] <= 4)],\n",
    "            E[2][(E[2] >= 2) & (E[2] <= 5)]\n",
    "    ]\n",
    "\n",
    "grapher2(k_dist, bands, energias_bandas, \"Estructura de bandas para el electrón libre en una red BCC\")"
   ]
  },
  {
   "cell_type": "markdown",
   "id": "c14cf5cd",
   "metadata": {},
   "source": [
    "### Amarre fuerte"
   ]
  },
  {
   "cell_type": "code",
   "execution_count": null,
   "id": "29811c48",
   "metadata": {},
   "outputs": [],
   "source": [
    "def E_tight_binding(k, A = 0):\n",
    "    return A + sum([np.cos(np.pi*k[i]) for i in range(3)])\n",
    "\n",
    "bands = [[E_tight_binding(k) for k in k_path]]"
   ]
  },
  {
   "cell_type": "code",
   "execution_count": null,
   "id": "75fba1c4",
   "metadata": {},
   "outputs": [],
   "source": [
    "grapher(k_dist, bands, labels, \"Estructura de bandas en el modelo de amarre fuerte en una red BCC\", True)"
   ]
  },
  {
   "cell_type": "markdown",
   "id": "7fb95476",
   "metadata": {},
   "source": [
    "#### Densidad de estados"
   ]
  },
  {
   "cell_type": "code",
   "execution_count": null,
   "id": "9188731e",
   "metadata": {},
   "outputs": [],
   "source": [
    "E = np.array([E_tight_binding(k) for k in tqdm(k_points)])"
   ]
  },
  {
   "cell_type": "code",
   "execution_count": null,
   "id": "82883975",
   "metadata": {},
   "outputs": [],
   "source": [
    "energias_bandas = [E[(E >= 0) & (E <= 3)]]\n",
    "\n",
    "grapher2(k_dist, bands, energias_bandas, \"Estructura de bandas en el modelo de amarre fuerte en una red BCC\")"
   ]
  }
 ],
 "metadata": {
  "kernelspec": {
   "display_name": "fis-comp",
   "language": "python",
   "name": "python3"
  },
  "language_info": {
   "codemirror_mode": {
    "name": "ipython",
    "version": 3
   },
   "file_extension": ".py",
   "mimetype": "text/x-python",
   "name": "python",
   "nbconvert_exporter": "python",
   "pygments_lexer": "ipython3",
   "version": "3.11.11"
  }
 },
 "nbformat": 4,
 "nbformat_minor": 5
}
