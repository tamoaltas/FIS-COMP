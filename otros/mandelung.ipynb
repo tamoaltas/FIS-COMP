{
 "cells": [
  {
   "cell_type": "code",
   "execution_count": 59,
   "id": "8bf8f11f-4b5e-4d18-bcfd-2f7daf2f8de4",
   "metadata": {},
   "outputs": [],
   "source": [
    "# Véase http://dx.doi.org/10.1007/bf02840710\n",
    "import math\n",
    "import numpy as np\n",
    "import random as rnd"
   ]
  },
  {
   "cell_type": "code",
   "execution_count": 60,
   "id": "39fc0500-c698-4d4e-83e3-5853547b612b",
   "metadata": {},
   "outputs": [],
   "source": [
    "iterations = 50\n",
    "tolerancia = 1e-20"
   ]
  },
  {
   "cell_type": "code",
   "execution_count": 61,
   "id": "4d9ffecd-cbe7-4bb9-b208-c2f966079904",
   "metadata": {},
   "outputs": [],
   "source": [
    "def promedios(Xs, Ys, N): \n",
    "    if (N % 2 == 1):\n",
    "        first = Ys\n",
    "        second = Xs\n",
    "    else:\n",
    "        first = Xs\n",
    "        second = Ys\n",
    "\n",
    "    \n",
    "    for i in range(1,N):\n",
    "        if (i % 2 == 1):\n",
    "            first[i] = (first[i-1] + second[i-1])/2\n",
    "        else:\n",
    "            second[i] = (first[i-1] + second[i-1])/2"
   ]
  },
  {
   "cell_type": "code",
   "execution_count": 62,
   "id": "9200a703-8403-47be-bdbf-bea9d19616b4",
   "metadata": {},
   "outputs": [
    {
     "name": "stdout",
     "output_type": "stream",
     "text": [
      "Se ha conseguido convergencia:  1.747564594633158\n"
     ]
    }
   ],
   "source": [
    "# Arreglos para guardar los valores de los promedios sucesivos\n",
    "Xs = np.zeros(iterations)\n",
    "Ys = np.zeros(iterations)\n",
    " \n",
    "for N in range(1,iterations):\n",
    "    sumaN = 0 # Acumulador para cada n y m posibles para determinado N\n",
    "    \n",
    "    for n in range(N+1): # n de 0 a N\n",
    "        for m in range (n+1): # m no mayor a n\n",
    "            dist = math.sqrt(N**2 + n**2 + m**2) # Distancia r_{ij}\n",
    "            sign = (-1)**abs(N + n + m + 1) # Distancia r_{ij}\n",
    "\n",
    "            # Casos mostrados en http://dx.doi.org/10.1007/bf02840710 p. 82\n",
    "            if (n == 0 and m == 0):\n",
    "                z = 6\n",
    "            elif (N > 1 and m == 0 and n < N):\n",
    "                z = 24\n",
    "            elif (n == N and m == 0):\n",
    "                z = 12\n",
    "            elif (N > 2 and m < n and n < N):\n",
    "                z = 48\n",
    "            elif (N > 1 and m == n and n < N):\n",
    "                z = 24\n",
    "            elif (N > 1 and n == N and m < N):\n",
    "                z = 24\n",
    "            elif (n == m and N == n):\n",
    "                z = 8\n",
    "\n",
    "            sumaN = sumaN + z * dist**(-1) * sign\n",
    "\n",
    "    if (N % 2 == 1): # Si N es impar, se guarda el nuevo dato en X. Si es par, en Y\n",
    "        Xs[0] = sumaN + Ys[0]\n",
    "    else: \n",
    "        Ys[0] = sumaN + Xs[0]\n",
    "\n",
    "    # Promedios sucesivos para acelerar la convergencia\n",
    "    promedios(Xs, Ys, N)\n",
    "\n",
    "    if(N > 3 and abs(Xs[N-3] -  Ys[N-3]) < tolerancia):\n",
    "        print(\"Se ha conseguido convergencia: \", rnd.choice([Xs[N-1],Ys[N-1]]))\n",
    "        break"
   ]
  },
  {
   "cell_type": "markdown",
   "id": "a5f53485-8f11-4fc2-9eb8-7120ce461d77",
   "metadata": {},
   "source": [
    "La constante de Mandelung para NaCl calculada es de: **1.747564594633158**"
   ]
  }
 ],
 "metadata": {
  "kernelspec": {
   "display_name": "Python 3 (ipykernel)",
   "language": "python",
   "name": "python3"
  },
  "language_info": {
   "codemirror_mode": {
    "name": "ipython",
    "version": 3
   },
   "file_extension": ".py",
   "mimetype": "text/x-python",
   "name": "python",
   "nbconvert_exporter": "python",
   "pygments_lexer": "ipython3",
   "version": "3.12.7"
  }
 },
 "nbformat": 4,
 "nbformat_minor": 5
}
