{
 "cells": [
  {
   "cell_type": "markdown",
   "metadata": {},
   "source": [
    "# Examen 1\n",
    "\n",
    "Nombre: **Román Tamez Vidal Tamayo Tamez**\n",
    "\n",
    "### Física Computacional 2025-2\n",
    "\n",
    "Resuelva los siguientes ejercicios."
   ]
  },
  {
   "cell_type": "code",
   "execution_count": 1,
   "metadata": {},
   "outputs": [],
   "source": [
    "import matplotlib.pyplot as plt\n",
    "import numpy as np"
   ]
  },
  {
   "cell_type": "markdown",
   "metadata": {},
   "source": [
    "1. Escriba un código que sume los números múltiplos de 5 y 17 que hay entre 0 y 100,000, es decir, que sume 0 + 5 + 10 + 17 + 20 + 25 + 30 + 34 + 35 + 51 + ..."
   ]
  },
  {
   "cell_type": "code",
   "execution_count": 2,
   "metadata": {},
   "outputs": [
    {
     "name": "stdout",
     "output_type": "stream",
     "text": [
      "Suma con repetición: 1294182351\n",
      "Suma sin repetición: 1235355891\n"
     ]
    }
   ],
   "source": [
    "max_val = 100_000\n",
    "# Sumamos sobre la cantidad de múltiplos que hay de 5 y 17 entre 0 y max_val\n",
    "sum_mults_5 = sum(((n+1)*5) for n in range(max_val//5))\n",
    "sum_mults_17 = sum(((n+1)*17) for n in range(max_val//17)) \n",
    "sum_mults =  sum_mults_5 + sum_mults_17\n",
    "\n",
    "print('Suma con repetición:', sum_mults)\n",
    "sum_mults_5_17 = sum(((n+1)*17*5) for n in range(max_val//(17*5))) \n",
    "# Quitamos la contribución de los múltiplos de 5 y 7 que contamos dos veces\n",
    "print('Suma sin repetición:', sum_mults - sum_mults_5_17)"
   ]
  },
  {
   "cell_type": "markdown",
   "metadata": {},
   "source": [
    "1. Haga la gráfica de la función $f(x)=x - \\frac{x^2}{2} + \\frac{x^3}{3}$ y de la función $\\ln (1+x)$ en la misma gráfica. Como se comparan las dos funciones anteriores en el intervalo $|x|<1$. Explique las similitudes y diferencias."
   ]
  },
  {
   "cell_type": "code",
   "execution_count": 3,
   "metadata": {},
   "outputs": [],
   "source": [
    "def func_f(x):\n",
    "    return x - x**2 / 2 + x**3 / 3\n",
    "\n",
    "def func_g(x):\n",
    "    return np.log(1 + x)"
   ]
  },
  {
   "cell_type": "code",
   "execution_count": 4,
   "metadata": {},
   "outputs": [
    {
     "data": {
      "image/png": "[encoded data removed]",
      "text/plain": [
       "<Figure size 640x480 with 1 Axes>"
      ]
     },
     "metadata": {},
     "output_type": "display_data"
    }
   ],
   "source": [
    "x = np.linspace(-1,1,200)\n",
    "# Para que abs(x) < 1\n",
    "x[0] = x[0] + 1e-10\n",
    "x[-1] = x[-1] - 1e-10\n",
    "\n",
    "f = func_f(x)\n",
    "g = func_g(x)\n",
    "\n",
    "plt.title(r'graficas')\n",
    "plt.plot(x,f, label=r\"$f(x)$\")\n",
    "plt.plot(x,g, label=r\"$\\text{ln} (x+1)$\")\n",
    "plt.legend(), plt.grid(), plt.ylim(-5,1)\n",
    "plt.show()"
   ]
  },
  {
   "cell_type": "code",
   "execution_count": 5,
   "metadata": {},
   "outputs": [
    {
     "name": "stdout",
     "output_type": "stream",
     "text": [
      "Las funciones son parecidas (diferencia menor a 10e-3) en el rango:\n",
      "( -0.2361809045226131 , 0.256281407035176 )\n"
     ]
    }
   ],
   "source": [
    "parecido = np.where(abs(f-g) < 1e-3)[0]\n",
    "print('Las funciones son parecidas (diferencia menor a 10e-3) en el rango:')\n",
    "print('(',x[parecido[0]],',', x[parecido[-1]],')')"
   ]
  },
  {
   "cell_type": "markdown",
   "metadata": {},
   "source": [
    "Fuera de este rango, las funciones divergen. $g(x) = \\ln(x+1)$ es menor, pues $f(x)$ crece como $x^3$."
   ]
  },
  {
   "cell_type": "markdown",
   "metadata": {},
   "source": [
    "3. Realice una función que utilice la función rand() para simular un dado de 7 caras. Es decir, haga una función que proporcione un número entre 1 y 8. Por ejemplo:\n",
    "```python\n",
    "dado()\n",
    "```\n",
    "y a la salida, podría proporcionar el número: ```5```."
   ]
  },
  {
   "cell_type": "code",
   "execution_count": 6,
   "metadata": {},
   "outputs": [
    {
     "name": "stdout",
     "output_type": "stream",
     "text": [
      "5\n",
      "7\n"
     ]
    }
   ],
   "source": [
    "def dado_con_rand(n=7):\n",
    "    rand_arr = np.random.rand(7)\n",
    "    return rand_arr.argmax() + 1\n",
    "\n",
    "def dado_con_rand_mejor(min_int, max_int):\n",
    "    rand = np.random.rand(1)[0]\n",
    "    # La conversión int() se queda con la parte entera \n",
    "    # Los dados regresan enteros\n",
    "    return int((max_int - min_int + 1)*rand) + min_int\n",
    "\n",
    "print(dado_con_rand()) \n",
    "print(dado_con_rand_mejor(1,7))"
   ]
  },
  {
   "cell_type": "markdown",
   "metadata": {},
   "source": [
    "1. Realice una función que reciba un número de cuenta de exlusivamente 9 dígitos, y que a la salida proporcione la suma y el producto de todos de todos sus dígitos distintos de cero. Compruebe el funcionamiento de su función con algún número de cuenta. Ejemplos:\n",
    "```\n",
    "In: sumar_nc(456982671)\n",
    "Out: Suma = 48 ; Producto = 725,760\n",
    "```\n",
    "\n",
    "```\n",
    "In: sumar_nc(623548)\n",
    "Out: El número no tiene 9 dígitos\n",
    "```"
   ]
  },
  {
   "cell_type": "code",
   "execution_count": 7,
   "metadata": {},
   "outputs": [],
   "source": [
    "def sumar_nc(nc):\n",
    "    nc_str = str(nc)\n",
    "    if (len(nc_str) != 9 or type(nc) != int):\n",
    "        raise Exception('Ingresa un número de cuenta válido') \n",
    "    \n",
    "    # Sumamos sobre los dígitos\n",
    "    suma = sum(int(n) for n in nc_str)\n",
    "    # Se hace rl producto entre los dígitos\n",
    "    producto = int(nc_str[0])\n",
    "    for i in range (1,len(nc_str)):\n",
    "        producto = producto*int(nc_str[i])\n",
    "\n",
    "    return suma, producto"
   ]
  },
  {
   "cell_type": "code",
   "execution_count": 8,
   "metadata": {},
   "outputs": [
    {
     "name": "stdout",
     "output_type": "stream",
     "text": [
      "Suma: 48\n",
      "Producto: 725760\n"
     ]
    }
   ],
   "source": [
    "suma, producto = sumar_nc(456982671)\n",
    "\n",
    "print('Suma:',suma)\n",
    "print('Producto:',producto)"
   ]
  },
  {
   "cell_type": "markdown",
   "metadata": {},
   "source": [
    "$\\mathbb{B} \\hat u \\dot e \\eta \\alpha$   $\\;\\;$ $\\sum \\hat u \\dot e \\rho \\tau \\dot e$"
   ]
  }
 ],
 "metadata": {
  "anaconda-cloud": {},
  "kernelspec": {
   "display_name": "fis-comp",
   "language": "python",
   "name": "python3"
  },
  "language_info": {
   "codemirror_mode": {
    "name": "ipython",
    "version": 3
   },
   "file_extension": ".py",
   "mimetype": "text/x-python",
   "name": "python",
   "nbconvert_exporter": "python",
   "pygments_lexer": "ipython3",
   "version": "3.11.11"
  }
 },
 "nbformat": 4,
 "nbformat_minor": 4
}
