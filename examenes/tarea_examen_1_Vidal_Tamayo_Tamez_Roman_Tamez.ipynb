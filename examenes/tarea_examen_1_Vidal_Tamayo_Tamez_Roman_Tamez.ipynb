{
 "cells": [
  {
   "cell_type": "markdown",
   "id": "b1deb9d6-177e-4aa5-8f25-addea8e92cfa",
   "metadata": {},
   "source": [
    "# Tarea Examen 1\n",
    "\n",
    "Nombre: Román Tamez Vidal Tamayo Tamez\n",
    "\n",
    "### Física Computacional 2025-2\n",
    "\n",
    "Resuelva los siguientes ejercicios."
   ]
  },
  {
   "cell_type": "markdown",
   "id": "8d28bf7e-4ce8-408f-a76f-b95ae242407c",
   "metadata": {},
   "source": [
    "1. Genere una función que se llame ```mi_plot(x,y,gap=1,label=\" \")``` que haga la gráfica de una función no contínua y que no dibuje una línea vertical. Para ello utilice el parámetro ```gap``` para indicar cual sería la mínima discontinuidad que se debe tomar en cuenta para que el graficador no realice la línea vertical. Verifique el funcionamiento de su función con 3 ejemplos."
   ]
  },
  {
   "cell_type": "code",
   "execution_count": null,
   "id": "2d97b55a-278a-4cea-81aa-a8a1f93f7eab",
   "metadata": {},
   "outputs": [],
   "source": []
  },
  {
   "cell_type": "markdown",
   "id": "2ce24ce1-eca3-4183-8b4b-21c1cd0724af",
   "metadata": {},
   "source": [
    "2. Se tiene la siguiente función definida en el intervalo $[0,1]$:\n",
    "$$\n",
    "f(x)= \\left\\{ \\begin{matrix}\n",
    "{\\rm Ai}(10x + ai_0 ) \\textrm{ si } |x| \\leq 1 \\\\ \n",
    "0 \\textrm{ si } |x| > 1 \\end{matrix} \n",
    "\\right.\n",
    "$$\n",
    "donde $Ai(x)$ es la función de Airy, y $ai_0$ es la raíz de dicha función más cercana al cero. Defina una funcion $g(x)$ como la repetición periódica de dicha función para $x\\in \\mathbb{R}$. Verifique el resultado haciendo la gráfica de dicha función en el intervalo $[-10,10]$ o cualquier otro intervalo cuyo dominio sea mayor."
   ]
  },
  {
   "cell_type": "code",
   "execution_count": null,
   "id": "0e0d62df-7ace-420b-8688-f0ca46e3fdf5",
   "metadata": {},
   "outputs": [],
   "source": []
  },
  {
   "cell_type": "markdown",
   "id": "61d2d765-966d-41f1-93d1-624c8e32ac0a",
   "metadata": {},
   "source": [
    "3. Dibuje la primera y segunda derivada de la función $g(x)$ del problema anterior en el intervalo $x \\in [-10,10]$. "
   ]
  },
  {
   "cell_type": "code",
   "execution_count": null,
   "id": "c65c5293-6331-4960-a581-2439a4eecb6e",
   "metadata": {},
   "outputs": [],
   "source": []
  },
  {
   "cell_type": "markdown",
   "id": "c8bd684e-9ba7-4f71-bcb6-4c7e7fbfed87",
   "metadata": {},
   "source": [
    "4. El objetivo del siguiente problema es obtener la curva de convergencia de las integrales que se piden en los incisos de este problema. Para ello inicie con una partición del segmento indicado en las integrales y vea el resultado de la integral, este primer segmento estará subdividido en 3 pedazos en el caso de ```Simp_3_8``` o en 4 en el caso de ```Boole```. Posteriormente divida cada sub-segmento en 2 y obtenga el resultado de la integral. Repita este procedimiento de dividir cada sub-segmento en 2 hasta obtener una precisión de $10^{-4}$, es decir, que el resultado de la integral no cambie en al menos 4 cifras. Realice en cada caso una gráfica del resultado de la integral contra el número de particiones en cada caso.\n",
    "    1. $\\int _0 ^1 \\frac{dx}{1+x^2} = \\frac{\\pi}{4}$\n",
    "    2. $\\int _0 ^3 \\frac{dx}{1+x^3}$\n",
    "    3. $\\int _0 ^{0.4} \\sin (x^2)dx$\n",
    "    4. $\\int _2 ^4 \\frac{dx}{\\ln (x)}$\n",
    "    5. $\\int _0 ^1 x e^{-x} dx$\n",
    "    \n",
    "    Las expresiones de las integrales que se mencionan en el párrafo anterior son:\n",
    "    - Función ```Simp_3_8```: $\\int ^{x_3} _{x_0} f(x)dx = \\frac{3h}{8}(f_0 + 3f_1 + 3f_2 + f_3)$\n",
    "    - Función ```Boole```: $\\int ^{x_4} _{x_0} f(x)dx = \\frac{2h}{45}(7f_0 + 32f_1 + 12f_2 + 32f_3 + 7f_4)$"
   ]
  },
  {
   "cell_type": "code",
   "execution_count": null,
   "id": "83f81c7e-530e-419d-b302-ef89fe58e778",
   "metadata": {},
   "outputs": [],
   "source": []
  }
 ],
 "metadata": {
  "kernelspec": {
   "display_name": "Python 3 (ipykernel)",
   "language": "python",
   "name": "python3"
  },
  "language_info": {
   "codemirror_mode": {
    "name": "ipython",
    "version": 3
   },
   "file_extension": ".py",
   "mimetype": "text/x-python",
   "name": "python",
   "nbconvert_exporter": "python",
   "pygments_lexer": "ipython3",
   "version": "3.9.20"
  }
 },
 "nbformat": 4,
 "nbformat_minor": 5
}
